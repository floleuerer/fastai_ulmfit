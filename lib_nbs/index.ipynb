{
 "cells": [
  {
   "cell_type": "markdown",
   "metadata": {},
   "source": [
    "# fast.ai ULMFiT with SentencePiece from pretraining to deployment"
   ]
  },
  {
   "cell_type": "markdown",
   "metadata": {},
   "source": [
    "**Motivation:**\n",
    "Why even bother with a non-BERT / Transformer language model? Short answer: you can train a state of the art text classifier with ULMFiT with limited data and affordable hardware. The whole process (preparing the Wikipedia dump, pretrain the language model, fine tune the language model and training the classifier) takes about 5 hours on my workstation with a RTX 3090. The training of the model with FP16 requires less than 8 GB VRAM - so you can train the model on affordable GPUs.\n",
    "\n",
    "I also saw this paper on the roadmap for fast.ai 2.3 [Single Headed Attention RNN: Stop Thinking With Your Head](https://arxiv.org/abs/1911.11423) which could improve the performance further. \n",
    "\n",
    "This Repo is based on: \n",
    "- https://github.com/fastai/fastai\n",
    "- [ULMFiT Paper](https://arxiv.org/abs/1801.06146)\n",
    "- the fast.ai NLP-course repository: https://github.com/fastai/course-nlp"
   ]
  },
  {
   "cell_type": "markdown",
   "metadata": {},
   "source": [
    "## Pretrained models"
   ]
  },
  {
   "cell_type": "markdown",
   "metadata": {},
   "source": [
    "| Language | (local) | code  | Perplexity | Vocab Size | Tokenizer | Download (.tgz files) |\n",
    "|---|---|---|---|---|---|---|\n",
    "| German | Deutsch  | de  | 16.1 | 15k | SP | https://bit.ly/ulmfit-dewiki |\n",
    "| German | Deutsch  | de  | 18.5 | 30k | SP | https://bit.ly/ulmfit-dewiki-30k |\n",
    "| Dutch | Nederlands | nl  | 20.5  | 15k | SP | https://bit.ly/ulmfit-nlwiki |\n",
    "| Russian | Русский | ru  | 29.8  | 15k | SP | https://bit.ly/ulmfit-ruwiki |\n",
    "| Portuguese | Português | pt  | 17.3 | 15k | SP | https://bit.ly/ulmfit-ptwiki |\n",
    "| Vietnamese | Tiếng Việt | vi  | 18.8 | 15k | SP | https://bit.ly/ulmfit-viwiki |\n",
    "| Japanese | 日本語 | ja  | 42.6 | 15k | SP | https://bit.ly/ulmfit-jawiki |\n",
    "| Italian | Italiano | it  | 23.7 | 15k | SP |https://bit.ly/ulmfit-itwiki |\n",
    "| Spanish | Español | es  | 21.9 | 15k | SP |https://bit.ly/ulmfit-eswiki |\n",
    "| Korean | 한국어 | ko  | 39.6 | 15k | SP |https://bit.ly/ulmfit-kowiki |\n",
    "| Thai | ไทย | th  | 56.4 | 15k | SP |https://bit.ly/ulmfit-thwiki |\n",
    "| Hebrew | עברית | he  | 46.3 | 15k | SP |https://bit.ly/ulmfit-hewiki |\n",
    "| Arabic | العربية | ar  | 50.0 | 15k | SP |https://bit.ly/ulmfit-arwiki |\n",
    "| Ukrainian | Українська | uk  | 32.0  | 15k | SP | https://bit.ly/ulmfit-ukwiki |\n",
    "| Mongolian | Монгол | mn | | | | see: [Github: RobertRitz](https://github.com/robertritz/NLP/tree/main/02_mongolian_language_model) |\n"
   ]
  },
  {
   "cell_type": "markdown",
   "metadata": {},
   "source": [
    "**Download with wget**\n",
    "````\n",
    "# to preserve the filenames (.tgz!) when downloading with wget use --content-disposition\n",
    "wget --content-disposition https://bit.ly/ulmfit-dewiki \n",
    "````"
   ]
  },
  {
   "cell_type": "markdown",
   "metadata": {},
   "source": [
    "### Usage of pretrained models - library fastai_ulmfit.pretrained"
   ]
  },
  {
   "cell_type": "markdown",
   "metadata": {},
   "source": [
    "I've written a small library around this repo, to easily use the pretrained models. You don't have to bother with model, vocab and tokenizer files and paths - the following functions will take care of that. \n",
    "\n",
    "Tutorial:  [fastai_ulmfit_pretrained_usage.ipynb](https://github.com/floleuerer/fastai_ulmfit/blob/main/fastai_ulmfit_pretrained_usage.ipynb) [![Open In Colab](https://colab.research.google.com/assets/colab-badge.svg)](https://colab.research.google.com/github/floleuerer/fastai_ulmfit/blob/main/fastai_ulmfit_pretrained_usage.ipynb)\n",
    "\n",
    "\n",
    "**Installation**\n",
    "````\n",
    "pip install fastai-ulmfit\n",
    "````\n",
    "\n",
    "**Usage**\n",
    "\n",
    "```\n",
    "# import\n",
    "from fastai_ulmfit.pretrained import *\n",
    "\n",
    "url = 'http://bit.ly/ulmfit-dewiki'\n",
    "\n",
    "# get tokenizer - if pretrained=True, the SentencePiece Model used for language model pretraining will be used. Default: False \n",
    "tok = tokenizer_from_pretrained(url, pretrained=False)\n",
    "\n",
    "# get language model learner for fine-tuning\n",
    "learn = language_model_from_pretrained(dls, url=url, drop_mult=0.5).to_fp16()\n",
    "\n",
    "# save fine-tuned model for classification\n",
    "path = learn.save_lm('tmp/test_lm')\n",
    "\n",
    "# get text classifier learner from fine-tuned model\n",
    "learn = text_classifier_from_lm(dls, path=path, metrics=[accuracy]).to_fp16()\n",
    "````"
   ]
  },
  {
   "cell_type": "markdown",
   "metadata": {},
   "source": [
    "### Extract Sentence Embeddings"
   ]
  },
  {
   "cell_type": "markdown",
   "metadata": {},
   "source": [
    "```\n",
    "from fastai_ulmfit.embeddings import SentenceEmbeddingCallback\n",
    "\n",
    "se = SentenceEmbeddingCallback(pool_mode='concat')\n",
    "_ = learn.get_preds(cbs=[se])\n",
    "\n",
    "feat = se.feat\n",
    "pca = PCA(n_components=2)\n",
    "pca.fit(feat['vec'])\n",
    "coords = pca.transform(feat['vec'])\n",
    "```"
   ]
  },
  {
   "cell_type": "markdown",
   "metadata": {},
   "source": [
    "## Model pretraining "
   ]
  },
  {
   "cell_type": "markdown",
   "metadata": {},
   "source": [
    "### Setup "
   ]
  },
  {
   "cell_type": "markdown",
   "metadata": {},
   "source": [
    "#### Python environment"
   ]
  },
  {
   "cell_type": "markdown",
   "metadata": {},
   "source": [
    "```\n",
    "fastai-2.2.7\n",
    "fastcore-1.3.19\n",
    "sentencepiece-0.1.95\n",
    "fastinference-0.0.36\n",
    "```\n",
    "\n",
    "**Install packages**\n",
    "`pip install -r requirements.txt`\n",
    "\n",
    "The trained language models are compatible with other fastai versions!"
   ]
  },
  {
   "cell_type": "markdown",
   "metadata": {},
   "source": [
    "#### Docker\n",
    "\n",
    "The Wikipedia-dump preprocessing requires docker https://docs.docker.com/get-docker/."
   ]
  },
  {
   "cell_type": "markdown",
   "metadata": {},
   "source": [
    "### Project structure\n",
    "\n",
    "````\n",
    ".\n",
    "├── we                         Docker image for the preperation of the Wikipedia-dump / wikiextractor\n",
    "└── data          \n",
    "    └── {language-code}wiki         \n",
    "        ├── dump                    downloaded Wikipedia dump\n",
    "        │   └── extract             extracted wikipedia-articles using wikiextractor\n",
    "        ├── docs \n",
    "        │   ├── all                 all extracted Wikipedia articles as single txt-files\n",
    "        │   ├── sampled             sampled Wikipedia articles for language model pretraining\n",
    "        │   └── sampled_tok         cached tokenized sampled articles - created by fastai / sentencepiece\n",
    "        └── model \n",
    "            ├── lm                  language model trained in step 2\n",
    "            │   ├── fwd             forward model\n",
    "            │   ├── bwd             backwards model\n",
    "            │   └── spm             SentencePiece model\n",
    "            │\n",
    "            ├── ft                  fine tuned model trained in step 3\n",
    "            │   ├── fwd             forward model\n",
    "            │   ├── bwd             backwards model\n",
    "            │   └── spm             SentencePiece model\n",
    "            │\n",
    "            └── class               classifier trained in step 4\n",
    "                ├── fwd             forward learner\n",
    "                └── bwd             backwards learner\n",
    "````"
   ]
  },
  {
   "cell_type": "markdown",
   "metadata": {},
   "source": [
    "### 1. Prepare Wikipedia-dump for pretraining\n",
    "\n",
    "ULMFiT can be peretrained on relativly small datasets - 100 million tokens are sufficient to get state-of-the art classification results (compared to Transformer models as BERT, which need huge amounts of training data). The easiest way is to pretrain a language model on Wikipedia.\n",
    "\n",
    "The code for the preperation steps is heavily inspired by / copied from the **fast.ai NLP-course**: https://github.com/fastai/course-nlp/blob/master/nlputils.py\n",
    "\n",
    "I built a docker container and script, that automates the following steps:\n",
    "1) Download Wikipedia XML-dump\n",
    "2) Extract the text from the dump\n",
    "3) Sample 160.000 documents with a minimum length of 1800 characters (results in 100m-120m tokens) both parameters can be changed - see the usage below\n",
    "\n",
    "The whole process will take some time depending on the download speed and your hardware. For the 'dewiki' the preperation took about 45 min.\n",
    "\n",
    "Run the following commands in the current directory\n",
    "```\n",
    "# build the wikiextractor docker file\n",
    "docker build -t wikiextractor ./we\n",
    "\n",
    "# run the docker container for a specific language\n",
    "# docker run -v $(pwd)/data:/data -it wikiextractor -l <language-code> \n",
    "# for German language-code de run:\n",
    "docker run -v $(pwd)/data:/data -it wikiextractor -l de\n",
    "...\n",
    "sucessfully prepared dewiki - /data/dewiki/docs/sampled, number of docs 160000/160000 with 110699119 words / tokens!\n",
    "\n",
    "# To change the number of sampled documents or the minimum length see\n",
    "usage: preprocess.py [-h] -l LANG [-n NUMBER_DOCS] [-m MIN_DOC_LENGTH] [--mirror MIRROR] [--cleanup]\n",
    "\n",
    "# To cleanup indermediate files (wikiextractor and all splitted documents) run the following command. \n",
    "# The Wikipedia-XML-Dump and the sampled docs will not be deleted!\n",
    "docker run -v $(pwd)/data:/data -it wikiextractor -l <language-code> --cleanup\n",
    "```"
   ]
  },
  {
   "cell_type": "markdown",
   "metadata": {},
   "source": [
    "### 2. Language model pretraining on Wikipedia Dump\n",
    "\n",
    "Notebook: `2_ulmfit_lm_pretraining.ipynb`\n",
    "\n",
    "To get the best result, you can train two seperate language models - a forward and a backward model. You'll have to run the complete notebook twice and set the `backwards` parameter accordingly. The models will be saved in seperate folders (fwd / bwd). The same applies to fine-tuning and training of the classifier.\n",
    "\n",
    "#### Parameters \n",
    "\n",
    "Change the following parameters according to your needs:\n",
    "```\n",
    "lang = 'de' # language of the Wikipedia-Dump\n",
    "backwards = False # Train backwards model? Default: False for forward model\n",
    "bs=128 # batch size\n",
    "vocab_sz = 15000 # vocab size - 15k / 30k work fine with sentence piece\n",
    "num_workers=18 # num_workers for the dataloaders\n",
    "step = 'lm' # language model - don't change\n",
    "```\n",
    "#### Training Logs + config\n",
    "\n",
    "`model.json` contains the **parameters** the language model was trained with and the **statistics** (looses and metrics) of the last epoch \n",
    "```json\n",
    "{\n",
    "    \"lang\": \"de\",\n",
    "    \"step\": \"lm\",\n",
    "    \"backwards\": false,\n",
    "    \"batch_size\": 128,\n",
    "    \"vocab_size\": 15000,\n",
    "    \"lr\": 0.01,\n",
    "    \"num_epochs\": 10,\n",
    "    \"drop_mult\": 0.5,\n",
    "    \"stats\": {\n",
    "        \"train_loss\": 2.894167184829712,\n",
    "        \"valid_loss\": 2.7784812450408936,\n",
    "        \"accuracy\": 0.46221256256103516,\n",
    "        \"perplexity\": 16.094558715820312\n",
    "    }\n",
    "}\n",
    "```\n",
    "\n",
    "`history.csv` log of the training metrics (epochs, losses, accuracy, perplexity)\n",
    "```\n",
    "epoch,train_loss,valid_loss,accuracy,perplexity,time\n",
    "0,3.375441551208496,3.369227886199951,0.3934227228164673,29.05608367919922,23:00\n",
    "...\n",
    "9,2.894167184829712,2.7784812450408936,0.46221256256103516,16.094558715820312,22:44\n",
    "```"
   ]
  },
  {
   "cell_type": "markdown",
   "metadata": {},
   "source": [
    "### 3. Language model fine-tuning on unlabled data\n",
    "\n",
    "Notebook: `3_ulmfit_lm_finetuning.ipynb`\n",
    "\n",
    "To improve the performance on the downstream-task, the language model should be fine-tuned. We are using a Twitter dataset (GermEval2018/2019), so we fine-tune the LM on unlabled tweets.\n",
    "\n",
    "To use the notebook on your own dataset, create a `.csv`-file containing your (unlabled) data in the `text` column.\n",
    "\n",
    "Files required from the Language Model (previous step):\n",
    "- Model (*model.pth)\n",
    "- Vocab (*vocab.pkl)\n",
    "\n",
    "I am not reusing the SentencePiece-Model from the language model! This could lead to slightly different tokenization but fast.ai (-> language_model_learner()) and the fine-tuning takes care of adding and training unknown tokens! This approach gave slightly better results than reusing the SP-Model from the language model.\n",
    "\n"
   ]
  },
  {
   "cell_type": "markdown",
   "metadata": {},
   "source": [
    "### 4. Train the classifier\n",
    "\n",
    "Notebook: `4_ulmfit_train_classifier.ipynb`\n",
    "\n",
    "The (fine-tuned) language model now can be used to train a classifier on a (small) labled dataset.\n",
    "\n",
    "To use the notebook on your own dataset, create a `.csv`-file containing your texts in the `text` and labels in the `label` column.\n",
    "\n",
    "Files required from the fine-tuned LM (previous step):\n",
    "- Encoder (*encoder.pth)\n",
    "- Vocab (*vocab.pkl)\n",
    "- SentencePiece-Model (spm/spm.model)"
   ]
  },
  {
   "cell_type": "markdown",
   "metadata": {},
   "source": [
    "### 5. Use the classifier for predictions / inference on new data\n",
    "\n",
    "Notebook: `5_ulmfit_inference.ipynb`"
   ]
  },
  {
   "cell_type": "markdown",
   "metadata": {},
   "source": [
    "## Evaluation\n",
    "\n",
    "### German pretrained model\n",
    "Results with an ensemble of forward + backward model (see the inference notebook). Neither the fine-tuning of the LM, nor the training of the classifier was optimized - so there is still room for improvement.\n",
    "\n",
    "Official results: https://ids-pub.bsz-bw.de/frontdoor/deliver/index/docId/9319/file/Struss_etal._Overview_of_GermEval_task_2_2019.pdf\n",
    "\n",
    "#### Task 1 Coarse Classification \n",
    "\n",
    "Classes: OTHER, OFFENSE\n",
    "\n",
    "Accuracy: 79,68 \n",
    "F1: 75,96 (best BERT 76,95)\n",
    "\n",
    "#### Task 2 Fine Classification \n",
    "\n",
    "Classes: OTHER, PROFANITY, INSULT, ABUSE\n",
    "\n",
    "Accuracy: 74,56 %\n",
    "F1: 52,54 (best BERT 53.59)\n",
    "\n",
    "### Dutch model\n",
    "\n",
    "Compared result with: https://arxiv.org/pdf/1912.09582.pdf  \n",
    "Dataset https://github.com/benjaminvdb/DBRD\n",
    "\n",
    "Accuracy 93,97 % (best BERT 93,0 %)\t\n",
    "\n",
    "### Japanese model\n",
    "Copared results with: \n",
    "- https://github.com/laboroai/Laboro-BERT-Japanese\n",
    "- https://github.com/yoheikikuta/bert-japanese  \n",
    "  \n",
    "Livedoor news corpus   \n",
    "Accuracy 97,1% (best BERT ~98 %)\n",
    "\n",
    "### Korean model\n",
    "\n",
    "Compared with: https://github.com/namdori61/BERT-Korean-Classification\n",
    "Dataset: https://github.com/e9t/nsmc\n",
    "Accuracy 89,6 % (best BERT 90,1 %)"
   ]
  },
  {
   "cell_type": "markdown",
   "metadata": {},
   "source": [
    "## Deployment as REST-API\n",
    "\n",
    "see https://github.com/floleuerer/fastai-docker-deploy"
   ]
  },
  {
   "cell_type": "markdown",
   "metadata": {},
   "source": [
    "."
   ]
  },
  {
   "cell_type": "code",
   "execution_count": null,
   "metadata": {},
   "outputs": [],
   "source": []
  }
 ],
 "metadata": {
  "kernelspec": {
   "display_name": "fastai",
   "language": "python",
   "name": "fastai"
  }
 },
 "nbformat": 4,
 "nbformat_minor": 5
}
